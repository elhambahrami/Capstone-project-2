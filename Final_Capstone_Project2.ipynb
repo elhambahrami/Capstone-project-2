{
 "cells": [
  {
   "cell_type": "code",
   "execution_count": 144,
   "metadata": {},
   "outputs": [
    {
     "name": "stderr",
     "output_type": "stream",
     "text": [
      "/Users/elham/anaconda3/lib/python3.7/site-packages/ipykernel_launcher.py:7: DeprecationWarning: time.clock has been deprecated in Python 3.3 and will be removed from Python 3.8: use time.perf_counter or time.process_time instead\n",
      "  import sys\n"
     ]
    },
    {
     "name": "stdout",
     "output_type": "stream",
     "text": [
      "8.411325999999917\n"
     ]
    },
    {
     "name": "stderr",
     "output_type": "stream",
     "text": [
      "/Users/elham/anaconda3/lib/python3.7/site-packages/ipykernel_launcher.py:9: DeprecationWarning: time.clock has been deprecated in Python 3.3 and will be removed from Python 3.8: use time.perf_counter or time.process_time instead\n",
      "  if __name__ == '__main__':\n"
     ]
    },
    {
     "data": {
      "text/html": [
       "<div>\n",
       "<style scoped>\n",
       "    .dataframe tbody tr th:only-of-type {\n",
       "        vertical-align: middle;\n",
       "    }\n",
       "\n",
       "    .dataframe tbody tr th {\n",
       "        vertical-align: top;\n",
       "    }\n",
       "\n",
       "    .dataframe thead th {\n",
       "        text-align: right;\n",
       "    }\n",
       "</style>\n",
       "<table border=\"1\" class=\"dataframe\">\n",
       "  <thead>\n",
       "    <tr style=\"text-align: right;\">\n",
       "      <th></th>\n",
       "      <th>STARFIRE_INCIDENT_ID</th>\n",
       "      <th>INCIDENT_DATETIME</th>\n",
       "      <th>ALARM_BOX_BOROUGH</th>\n",
       "      <th>ALARM_BOX_NUMBER</th>\n",
       "      <th>ALARM_BOX_LOCATION</th>\n",
       "      <th>INCIDENT_BOROUGH</th>\n",
       "      <th>ZIPCODE</th>\n",
       "      <th>POLICEPRECINCT</th>\n",
       "      <th>CITYCOUNCILDISTRICT</th>\n",
       "      <th>COMMUNITYDISTRICT</th>\n",
       "      <th>...</th>\n",
       "      <th>FIRST_ACTIVATION_DATETIME</th>\n",
       "      <th>FIRST_ON_SCENE_DATETIME</th>\n",
       "      <th>INCIDENT_CLOSE_DATETIME</th>\n",
       "      <th>VALID_DISPATCH_RSPNS_TIME_INDC</th>\n",
       "      <th>VALID_INCIDENT_RSPNS_TIME_INDC</th>\n",
       "      <th>INCIDENT_RESPONSE_SECONDS_QY</th>\n",
       "      <th>INCIDENT_TRAVEL_TM_SECONDS_QY</th>\n",
       "      <th>ENGINES_ASSIGNED_QUANTITY</th>\n",
       "      <th>LADDERS_ASSIGNED_QUANTITY</th>\n",
       "      <th>OTHER_UNITS_ASSIGNED_QUANTITY</th>\n",
       "    </tr>\n",
       "  </thead>\n",
       "  <tbody>\n",
       "    <tr>\n",
       "      <th>0</th>\n",
       "      <td>1.736549e+15</td>\n",
       "      <td>12/31/2017 11:59:45 PM</td>\n",
       "      <td>QUEENS</td>\n",
       "      <td>4936</td>\n",
       "      <td>133 AVE &amp; 125 ST</td>\n",
       "      <td>QUEENS</td>\n",
       "      <td>11420.0</td>\n",
       "      <td>106.0</td>\n",
       "      <td>28.0</td>\n",
       "      <td>410.0</td>\n",
       "      <td>...</td>\n",
       "      <td>01/01/2018 12:00:27 AM</td>\n",
       "      <td>01/01/2018 12:04:51 AM</td>\n",
       "      <td>01/01/2018 12:16:17 AM</td>\n",
       "      <td>N</td>\n",
       "      <td>Y</td>\n",
       "      <td>306</td>\n",
       "      <td>297</td>\n",
       "      <td>1</td>\n",
       "      <td>0</td>\n",
       "      <td>0</td>\n",
       "    </tr>\n",
       "    <tr>\n",
       "      <th>2</th>\n",
       "      <td>1.736503e+15</td>\n",
       "      <td>12/31/2017 11:58:41 PM</td>\n",
       "      <td>MANHATTAN</td>\n",
       "      <td>272</td>\n",
       "      <td>MANGIN &amp; DELANCEY STS</td>\n",
       "      <td>MANHATTAN</td>\n",
       "      <td>10002.0</td>\n",
       "      <td>7.0</td>\n",
       "      <td>2.0</td>\n",
       "      <td>103.0</td>\n",
       "      <td>...</td>\n",
       "      <td>12/31/2017 11:59:13 PM</td>\n",
       "      <td>01/01/2018 12:02:14 AM</td>\n",
       "      <td>01/01/2018 12:11:48 AM</td>\n",
       "      <td>N</td>\n",
       "      <td>Y</td>\n",
       "      <td>213</td>\n",
       "      <td>200</td>\n",
       "      <td>3</td>\n",
       "      <td>3</td>\n",
       "      <td>1</td>\n",
       "    </tr>\n",
       "    <tr>\n",
       "      <th>3</th>\n",
       "      <td>1.736533e+15</td>\n",
       "      <td>12/31/2017 11:57:55 PM</td>\n",
       "      <td>BROOKLYN</td>\n",
       "      <td>3258</td>\n",
       "      <td>AVENUE P &amp; E 24 ST</td>\n",
       "      <td>BROOKLYN</td>\n",
       "      <td>11229.0</td>\n",
       "      <td>61.0</td>\n",
       "      <td>48.0</td>\n",
       "      <td>315.0</td>\n",
       "      <td>...</td>\n",
       "      <td>12/31/2017 11:58:37 PM</td>\n",
       "      <td>01/01/2018 12:02:08 AM</td>\n",
       "      <td>01/01/2018 01:20:58 AM</td>\n",
       "      <td>N</td>\n",
       "      <td>Y</td>\n",
       "      <td>253</td>\n",
       "      <td>245</td>\n",
       "      <td>1</td>\n",
       "      <td>0</td>\n",
       "      <td>0</td>\n",
       "    </tr>\n",
       "    <tr>\n",
       "      <th>4</th>\n",
       "      <td>1.736578e+15</td>\n",
       "      <td>12/31/2017 11:57:49 PM</td>\n",
       "      <td>QUEENS</td>\n",
       "      <td>7841</td>\n",
       "      <td>ROOSEVELT AVE &amp; 80 ST</td>\n",
       "      <td>QUEENS</td>\n",
       "      <td>11372.0</td>\n",
       "      <td>115.0</td>\n",
       "      <td>25.0</td>\n",
       "      <td>403.0</td>\n",
       "      <td>...</td>\n",
       "      <td>12/31/2017 11:58:18 PM</td>\n",
       "      <td>01/01/2018 12:01:03 AM</td>\n",
       "      <td>01/01/2018 12:09:55 AM</td>\n",
       "      <td>N</td>\n",
       "      <td>Y</td>\n",
       "      <td>194</td>\n",
       "      <td>179</td>\n",
       "      <td>3</td>\n",
       "      <td>2</td>\n",
       "      <td>1</td>\n",
       "    </tr>\n",
       "    <tr>\n",
       "      <th>6</th>\n",
       "      <td>1.736516e+15</td>\n",
       "      <td>12/31/2017 11:57:35 PM</td>\n",
       "      <td>MANHATTAN</td>\n",
       "      <td>1620</td>\n",
       "      <td>AMSTERDAM AVE &amp; 144 ST</td>\n",
       "      <td>MANHATTAN</td>\n",
       "      <td>10031.0</td>\n",
       "      <td>30.0</td>\n",
       "      <td>7.0</td>\n",
       "      <td>109.0</td>\n",
       "      <td>...</td>\n",
       "      <td>12/31/2017 11:59:03 PM</td>\n",
       "      <td>01/01/2018 12:02:24 AM</td>\n",
       "      <td>01/01/2018 12:07:34 AM</td>\n",
       "      <td>N</td>\n",
       "      <td>Y</td>\n",
       "      <td>289</td>\n",
       "      <td>234</td>\n",
       "      <td>1</td>\n",
       "      <td>1</td>\n",
       "      <td>1</td>\n",
       "    </tr>\n",
       "  </tbody>\n",
       "</table>\n",
       "<p>5 rows × 29 columns</p>\n",
       "</div>"
      ],
      "text/plain": [
       "   STARFIRE_INCIDENT_ID       INCIDENT_DATETIME ALARM_BOX_BOROUGH  \\\n",
       "0          1.736549e+15  12/31/2017 11:59:45 PM            QUEENS   \n",
       "2          1.736503e+15  12/31/2017 11:58:41 PM         MANHATTAN   \n",
       "3          1.736533e+15  12/31/2017 11:57:55 PM          BROOKLYN   \n",
       "4          1.736578e+15  12/31/2017 11:57:49 PM            QUEENS   \n",
       "6          1.736516e+15  12/31/2017 11:57:35 PM         MANHATTAN   \n",
       "\n",
       "   ALARM_BOX_NUMBER      ALARM_BOX_LOCATION INCIDENT_BOROUGH  ZIPCODE  \\\n",
       "0              4936        133 AVE & 125 ST           QUEENS  11420.0   \n",
       "2               272   MANGIN & DELANCEY STS        MANHATTAN  10002.0   \n",
       "3              3258      AVENUE P & E 24 ST         BROOKLYN  11229.0   \n",
       "4              7841   ROOSEVELT AVE & 80 ST           QUEENS  11372.0   \n",
       "6              1620  AMSTERDAM AVE & 144 ST        MANHATTAN  10031.0   \n",
       "\n",
       "   POLICEPRECINCT  CITYCOUNCILDISTRICT  COMMUNITYDISTRICT  \\\n",
       "0           106.0                 28.0              410.0   \n",
       "2             7.0                  2.0              103.0   \n",
       "3            61.0                 48.0              315.0   \n",
       "4           115.0                 25.0              403.0   \n",
       "6            30.0                  7.0              109.0   \n",
       "\n",
       "               ...               FIRST_ACTIVATION_DATETIME  \\\n",
       "0              ...                  01/01/2018 12:00:27 AM   \n",
       "2              ...                  12/31/2017 11:59:13 PM   \n",
       "3              ...                  12/31/2017 11:58:37 PM   \n",
       "4              ...                  12/31/2017 11:58:18 PM   \n",
       "6              ...                  12/31/2017 11:59:03 PM   \n",
       "\n",
       "   FIRST_ON_SCENE_DATETIME INCIDENT_CLOSE_DATETIME  \\\n",
       "0   01/01/2018 12:04:51 AM  01/01/2018 12:16:17 AM   \n",
       "2   01/01/2018 12:02:14 AM  01/01/2018 12:11:48 AM   \n",
       "3   01/01/2018 12:02:08 AM  01/01/2018 01:20:58 AM   \n",
       "4   01/01/2018 12:01:03 AM  01/01/2018 12:09:55 AM   \n",
       "6   01/01/2018 12:02:24 AM  01/01/2018 12:07:34 AM   \n",
       "\n",
       "  VALID_DISPATCH_RSPNS_TIME_INDC VALID_INCIDENT_RSPNS_TIME_INDC  \\\n",
       "0                              N                              Y   \n",
       "2                              N                              Y   \n",
       "3                              N                              Y   \n",
       "4                              N                              Y   \n",
       "6                              N                              Y   \n",
       "\n",
       "  INCIDENT_RESPONSE_SECONDS_QY INCIDENT_TRAVEL_TM_SECONDS_QY  \\\n",
       "0                          306                           297   \n",
       "2                          213                           200   \n",
       "3                          253                           245   \n",
       "4                          194                           179   \n",
       "6                          289                           234   \n",
       "\n",
       "   ENGINES_ASSIGNED_QUANTITY LADDERS_ASSIGNED_QUANTITY  \\\n",
       "0                          1                         0   \n",
       "2                          3                         3   \n",
       "3                          1                         0   \n",
       "4                          3                         2   \n",
       "6                          1                         1   \n",
       "\n",
       "  OTHER_UNITS_ASSIGNED_QUANTITY  \n",
       "0                             0  \n",
       "2                             1  \n",
       "3                             0  \n",
       "4                             1  \n",
       "6                             1  \n",
       "\n",
       "[5 rows x 29 columns]"
      ]
     },
     "execution_count": 144,
     "metadata": {},
     "output_type": "execute_result"
    }
   ],
   "source": [
    "import pandas as pd\n",
    "import numpy as np\n",
    "import matplotlib.pyplot as plt\n",
    "import time\n",
    "df = pd.read_csv('Fire_Incident_Dispatch_Data.csv')\n",
    "df.dropna(inplace=True)# missing values are due to unnecesary incidents, meaning the called incident was cared by other departments like medical, police\n",
    "t0= time.clock()\n",
    "pd.to_datetime(df['INCIDENT_CLOSE_DATETIME'], format='%m/%d/%Y %I:%M:%S %p')#convert \"INCIDENT_CLOSE_DATETIME\" to datetime format\n",
    "print(time.clock() - t0)\n",
    "df.head()"
   ]
  },
  {
   "cell_type": "code",
   "execution_count": 116,
   "metadata": {},
   "outputs": [
    {
     "data": {
      "text/plain": [
       "<matplotlib.axes._subplots.AxesSubplot at 0x125859da0>"
      ]
     },
     "execution_count": 116,
     "metadata": {},
     "output_type": "execute_result"
    },
    {
     "data": {
      "image/png": "[encoded data removed]",
      "text/plain": [
       "<Figure size 432x288 with 1 Axes>"
      ]
     },
     "metadata": {
      "needs_background": "light"
     },
     "output_type": "display_data"
    }
   ],
   "source": [
    "#long time that every incident takes\n",
    "fmt ='%m/%d/%Y %I:%M:%S %p'\n",
    "df.INCIDENT_CLOSE_DATETIME = pd.to_datetime(df.INCIDENT_CLOSE_DATETIME, format=fmt)\n",
    "df.FIRST_ON_SCENE_DATETIME = pd.to_datetime(df.FIRST_ON_SCENE_DATETIME, format=fmt)\n",
    "df['total_time'] = df.INCIDENT_CLOSE_DATETIME - df.FIRST_ON_SCENE_DATETIME\n",
    "df.total_time = df.total_time.dt.seconds\n",
    "df.total_time.plot(kind='hist', bins=100, logy=True)# frequency of taken time of incidents"
   ]
  },
  {
   "cell_type": "code",
   "execution_count": 90,
   "metadata": {},
   "outputs": [],
   "source": [
    "#df2 = pd.get_dummies(df.INCIDENT_CLASSIFICATION_GROUP)"
   ]
  },
  {
   "cell_type": "code",
   "execution_count": 91,
   "metadata": {},
   "outputs": [
    {
     "data": {
      "text/plain": [
       "Index(['STARFIRE_INCIDENT_ID', 'INCIDENT_DATETIME', 'ALARM_BOX_BOROUGH',\n",
       "       'ALARM_BOX_NUMBER', 'ALARM_BOX_LOCATION', 'INCIDENT_BOROUGH', 'ZIPCODE',\n",
       "       'POLICEPRECINCT', 'CITYCOUNCILDISTRICT', 'COMMUNITYDISTRICT',\n",
       "       'COMMUNITYSCHOOLDISTRICT', 'CONGRESSIONALDISTRICT',\n",
       "       'ALARM_SOURCE_DESCRIPTION_TX', 'ALARM_LEVEL_INDEX_DESCRIPTION',\n",
       "       'HIGHEST_ALARM_LEVEL', 'INCIDENT_CLASSIFICATION',\n",
       "       'INCIDENT_CLASSIFICATION_GROUP', 'DISPATCH_RESPONSE_SECONDS_QY',\n",
       "       'FIRST_ASSIGNMENT_DATETIME', 'FIRST_ACTIVATION_DATETIME',\n",
       "       'FIRST_ON_SCENE_DATETIME', 'INCIDENT_CLOSE_DATETIME',\n",
       "       'VALID_DISPATCH_RSPNS_TIME_INDC', 'VALID_INCIDENT_RSPNS_TIME_INDC',\n",
       "       'INCIDENT_RESPONSE_SECONDS_QY', 'INCIDENT_TRAVEL_TM_SECONDS_QY',\n",
       "       'ENGINES_ASSIGNED_QUANTITY', 'LADDERS_ASSIGNED_QUANTITY',\n",
       "       'OTHER_UNITS_ASSIGNED_QUANTITY', 'total_time'],\n",
       "      dtype='object')"
      ]
     },
     "execution_count": 91,
     "metadata": {},
     "output_type": "execute_result"
    }
   ],
   "source": [
    "df.columns"
   ]
  },
  {
   "cell_type": "code",
   "execution_count": 117,
   "metadata": {},
   "outputs": [],
   "source": [
    "population_data = pd.read_csv('~/Downloads/2010+Census+Population+By+Zipcode+(ZCTA).csv',\n",
    "                              index_col=0)\n",
    "population_data = population_data[population_data['2010 Census Population'] != 0]"
   ]
  },
  {
   "cell_type": "code",
   "execution_count": 118,
   "metadata": {},
   "outputs": [
    {
     "data": {
      "text/html": [
       "<div>\n",
       "<style scoped>\n",
       "    .dataframe tbody tr th:only-of-type {\n",
       "        vertical-align: middle;\n",
       "    }\n",
       "\n",
       "    .dataframe tbody tr th {\n",
       "        vertical-align: top;\n",
       "    }\n",
       "\n",
       "    .dataframe thead th {\n",
       "        text-align: right;\n",
       "    }\n",
       "</style>\n",
       "<table border=\"1\" class=\"dataframe\">\n",
       "  <thead>\n",
       "    <tr style=\"text-align: right;\">\n",
       "      <th></th>\n",
       "      <th>mean_time_per_zipcode</th>\n",
       "      <th>ratio_per_capita</th>\n",
       "    </tr>\n",
       "  </thead>\n",
       "  <tbody>\n",
       "    <tr>\n",
       "      <th>10000.0</th>\n",
       "      <td>1099.250000</td>\n",
       "      <td>NaN</td>\n",
       "    </tr>\n",
       "    <tr>\n",
       "      <th>10001.0</th>\n",
       "      <td>1068.943585</td>\n",
       "      <td>0.986162</td>\n",
       "    </tr>\n",
       "    <tr>\n",
       "      <th>10002.0</th>\n",
       "      <td>1015.123727</td>\n",
       "      <td>0.371601</td>\n",
       "    </tr>\n",
       "    <tr>\n",
       "      <th>10003.0</th>\n",
       "      <td>920.096236</td>\n",
       "      <td>0.418249</td>\n",
       "    </tr>\n",
       "    <tr>\n",
       "      <th>10004.0</th>\n",
       "      <td>1066.426753</td>\n",
       "      <td>1.144707</td>\n",
       "    </tr>\n",
       "  </tbody>\n",
       "</table>\n",
       "</div>"
      ],
      "text/plain": [
       "         mean_time_per_zipcode  ratio_per_capita\n",
       "10000.0            1099.250000               NaN\n",
       "10001.0            1068.943585          0.986162\n",
       "10002.0            1015.123727          0.371601\n",
       "10003.0             920.096236          0.418249\n",
       "10004.0            1066.426753          1.144707"
      ]
     },
     "execution_count": 118,
     "metadata": {},
     "output_type": "execute_result"
    }
   ],
   "source": [
    "total_incident_per_zipcode = pd.DataFrame(df.groupby('ZIPCODE').count().STARFIRE_INCIDENT_ID)#number of incident in each zipcode\n",
    "mean_time_per_zipcode = pd.DataFrame(df.groupby('ZIPCODE').total_time.mean())#average taken time for incident in each group\n",
    "total_incident_per_zipcode = total_incident_per_zipcode.merge(population_data, how='left', \n",
    "                                 left_index=True, right_index=True)#merging population data set and quantity of incident in each zipcode\n",
    "total_incident_per_zipcode = total_incident_per_zipcode.merge(mean_time_per_zipcode, how='left',\n",
    "                                                             left_index=True, right_index=True)#merging with average taken time for incidents\n",
    "total_incident_per_zipcode['ratio_per_capita'] = total_incident_per_zipcode.STARFIRE_INCIDENT_ID.divide(total_incident_per_zipcode['2010 Census Population'])#making a ration for each zipcode based on the population and the quantity of incident\n",
    "total_incident_per_zipcode = total_incident_per_zipcode.rename(index=str, columns={'total_time':'mean_time_per_zipcode'})\n",
    "total_incident_per_zipcode.drop(['STARFIRE_INCIDENT_ID', '2010 Census Population'], axis=1, inplace=True)\n",
    "total_incident_per_zipcode.head()"
   ]
  },
  {
   "cell_type": "code",
   "execution_count": 119,
   "metadata": {},
   "outputs": [],
   "source": [
    "total_incident_per_zipcode.dropna(inplace=True)\n",
    "# total_incident_per_zipcode.ratio_per_capita.mean()"
   ]
  },
  {
   "cell_type": "code",
   "execution_count": 120,
   "metadata": {},
   "outputs": [],
   "source": [
    "df.index = df.ZIPCODE.astype(np.float32)\n",
    "total_incident_per_zipcode.index = total_incident_per_zipcode.index.astype(np.float32)\n",
    "df = df.merge(total_incident_per_zipcode, right_index=True, left_index=True, how='left')"
   ]
  },
  {
   "cell_type": "code",
   "execution_count": 560,
   "metadata": {},
   "outputs": [
    {
     "name": "stdout",
     "output_type": "stream",
     "text": [
      "<class 'pandas.core.frame.DataFrame'>\n",
      "Float64Index: 2220378 entries, 10000.0 to 11697.0\n",
      "Data columns (total 32 columns):\n",
      "STARFIRE_INCIDENT_ID              float64\n",
      "INCIDENT_DATETIME                 object\n",
      "ALARM_BOX_BOROUGH                 object\n",
      "ALARM_BOX_NUMBER                  int64\n",
      "ALARM_BOX_LOCATION                object\n",
      "INCIDENT_BOROUGH                  object\n",
      "ZIPCODE                           float64\n",
      "POLICEPRECINCT                    float64\n",
      "CITYCOUNCILDISTRICT               float64\n",
      "COMMUNITYDISTRICT                 float64\n",
      "COMMUNITYSCHOOLDISTRICT           float64\n",
      "CONGRESSIONALDISTRICT             float64\n",
      "ALARM_SOURCE_DESCRIPTION_TX       object\n",
      "ALARM_LEVEL_INDEX_DESCRIPTION     object\n",
      "HIGHEST_ALARM_LEVEL               object\n",
      "INCIDENT_CLASSIFICATION           object\n",
      "INCIDENT_CLASSIFICATION_GROUP     object\n",
      "DISPATCH_RESPONSE_SECONDS_QY      int64\n",
      "FIRST_ASSIGNMENT_DATETIME         object\n",
      "FIRST_ACTIVATION_DATETIME         object\n",
      "FIRST_ON_SCENE_DATETIME           datetime64[ns]\n",
      "INCIDENT_CLOSE_DATETIME           datetime64[ns]\n",
      "VALID_DISPATCH_RSPNS_TIME_INDC    object\n",
      "VALID_INCIDENT_RSPNS_TIME_INDC    object\n",
      "INCIDENT_RESPONSE_SECONDS_QY      int64\n",
      "INCIDENT_TRAVEL_TM_SECONDS_QY     int64\n",
      "ENGINES_ASSIGNED_QUANTITY         int64\n",
      "LADDERS_ASSIGNED_QUANTITY         int64\n",
      "OTHER_UNITS_ASSIGNED_QUANTITY     int64\n",
      "total_time                        int64\n",
      "mean_time_per_zipcode             float64\n",
      "ratio_per_capita                  float64\n",
      "dtypes: datetime64[ns](2), float64(9), int64(8), object(13)\n",
      "memory usage: 559.0+ MB\n"
     ]
    }
   ],
   "source": [
    "df.info()"
   ]
  },
  {
   "cell_type": "code",
   "execution_count": 37,
   "metadata": {},
   "outputs": [
    {
     "data": {
      "text/plain": [
       "STARFIRE_INCIDENT_ID                  0\n",
       "INCIDENT_DATETIME                     0\n",
       "ALARM_BOX_BOROUGH                     0\n",
       "ALARM_BOX_NUMBER                      0\n",
       "ALARM_BOX_LOCATION                    0\n",
       "INCIDENT_BOROUGH                      0\n",
       "ZIPCODE                               0\n",
       "POLICEPRECINCT                        0\n",
       "CITYCOUNCILDISTRICT                   0\n",
       "COMMUNITYDISTRICT                     0\n",
       "COMMUNITYSCHOOLDISTRICT               0\n",
       "CONGRESSIONALDISTRICT                 0\n",
       "ALARM_SOURCE_DESCRIPTION_TX           0\n",
       "ALARM_LEVEL_INDEX_DESCRIPTION         0\n",
       "HIGHEST_ALARM_LEVEL                   0\n",
       "INCIDENT_CLASSIFICATION               0\n",
       "INCIDENT_CLASSIFICATION_GROUP         0\n",
       "DISPATCH_RESPONSE_SECONDS_QY          0\n",
       "FIRST_ASSIGNMENT_DATETIME             0\n",
       "FIRST_ACTIVATION_DATETIME             0\n",
       "FIRST_ON_SCENE_DATETIME               0\n",
       "INCIDENT_CLOSE_DATETIME               0\n",
       "VALID_DISPATCH_RSPNS_TIME_INDC        0\n",
       "VALID_INCIDENT_RSPNS_TIME_INDC        0\n",
       "INCIDENT_RESPONSE_SECONDS_QY          0\n",
       "INCIDENT_TRAVEL_TM_SECONDS_QY         0\n",
       "ENGINES_ASSIGNED_QUANTITY             0\n",
       "LADDERS_ASSIGNED_QUANTITY             0\n",
       "OTHER_UNITS_ASSIGNED_QUANTITY         0\n",
       "total_time                            0\n",
       "mean_time_per_zipcode             12181\n",
       "ratio_per_capita                  12181\n",
       "dtype: int64"
      ]
     },
     "execution_count": 37,
     "metadata": {},
     "output_type": "execute_result"
    }
   ],
   "source": [
    "# drop missing values which is too small compare to the dataset size\n",
    "df.isnull().sum()"
   ]
  },
  {
   "cell_type": "code",
   "execution_count": 121,
   "metadata": {},
   "outputs": [],
   "source": [
    "df.dropna(inplace=True)"
   ]
  },
  {
   "cell_type": "code",
   "execution_count": 99,
   "metadata": {},
   "outputs": [
    {
     "data": {
      "text/plain": [
       "STARFIRE_INCIDENT_ID              0\n",
       "INCIDENT_DATETIME                 0\n",
       "ALARM_BOX_BOROUGH                 0\n",
       "ALARM_BOX_NUMBER                  0\n",
       "ALARM_BOX_LOCATION                0\n",
       "INCIDENT_BOROUGH                  0\n",
       "ZIPCODE                           0\n",
       "POLICEPRECINCT                    0\n",
       "CITYCOUNCILDISTRICT               0\n",
       "COMMUNITYDISTRICT                 0\n",
       "COMMUNITYSCHOOLDISTRICT           0\n",
       "CONGRESSIONALDISTRICT             0\n",
       "ALARM_SOURCE_DESCRIPTION_TX       0\n",
       "ALARM_LEVEL_INDEX_DESCRIPTION     0\n",
       "HIGHEST_ALARM_LEVEL               0\n",
       "INCIDENT_CLASSIFICATION           0\n",
       "INCIDENT_CLASSIFICATION_GROUP     0\n",
       "DISPATCH_RESPONSE_SECONDS_QY      0\n",
       "FIRST_ASSIGNMENT_DATETIME         0\n",
       "FIRST_ACTIVATION_DATETIME         0\n",
       "FIRST_ON_SCENE_DATETIME           0\n",
       "INCIDENT_CLOSE_DATETIME           0\n",
       "VALID_DISPATCH_RSPNS_TIME_INDC    0\n",
       "VALID_INCIDENT_RSPNS_TIME_INDC    0\n",
       "INCIDENT_RESPONSE_SECONDS_QY      0\n",
       "INCIDENT_TRAVEL_TM_SECONDS_QY     0\n",
       "ENGINES_ASSIGNED_QUANTITY         0\n",
       "LADDERS_ASSIGNED_QUANTITY         0\n",
       "OTHER_UNITS_ASSIGNED_QUANTITY     0\n",
       "total_time                        0\n",
       "mean_time_per_zipcode             0\n",
       "ratio_per_capita                  0\n",
       "dtype: int64"
      ]
     },
     "execution_count": 99,
     "metadata": {},
     "output_type": "execute_result"
    }
   ],
   "source": [
    "df.isnull().sum()"
   ]
  },
  {
   "cell_type": "code",
   "execution_count": 139,
   "metadata": {},
   "outputs": [],
   "source": [
    "# Defending target variable; 1:safe, 2:unsafe\n",
    "def safety_index(x):\n",
    "    ans = 0\n",
    "    ratio_per_capita_median = 0.00100\n",
    "    if x.ratio_per_capita > ratio_per_capita_median :\n",
    "        ans += 1\n",
    "\n",
    "    if x.total_time > x.mean_time_per_zipcode:\n",
    "        ans += 1\n",
    "\n",
    "    return ans\n",
    "df.dropna(inplace=True)\n",
    "df['safety_index'] = df.apply(safety_index, axis=1)"
   ]
  },
  {
   "cell_type": "code",
   "execution_count": 140,
   "metadata": {},
   "outputs": [
    {
     "data": {
      "text/plain": [
       "1    1544923\n",
       "2     663274\n",
       "Name: safety_index, dtype: int64"
      ]
     },
     "execution_count": 140,
     "metadata": {},
     "output_type": "execute_result"
    }
   ],
   "source": [
    "df.safety_index.value_counts()"
   ]
  },
  {
   "cell_type": "code",
   "execution_count": 141,
   "metadata": {},
   "outputs": [
    {
     "name": "stderr",
     "output_type": "stream",
     "text": [
      "/Users/elham/anaconda3/lib/python3.7/site-packages/sklearn/utils/validation.py:578: DataConversionWarning: A column-vector y was passed when a 1d array was expected. Please change the shape of y to (n_samples, ), for example using ravel().\n",
      "  y = column_or_1d(y, warn=True)\n"
     ]
    },
    {
     "name": "stdout",
     "output_type": "stream",
     "text": [
      "Accuracy: 0.94\n",
      "[[453335  10139]\n",
      " [ 29986 169000]]\n",
      "             precision    recall  f1-score   support\n",
      "\n",
      "          1       0.94      0.98      0.96    463474\n",
      "          2       0.94      0.85      0.89    198986\n",
      "\n",
      "avg / total       0.94      0.94      0.94    662460\n",
      "\n"
     ]
    }
   ],
   "source": [
    "from sklearn.linear_model import LogisticRegression\n",
    "from sklearn.model_selection import train_test_split\n",
    "from sklearn.preprocessing import StandardScaler\n",
    "from sklearn import metrics\n",
    "from sklearn.metrics import confusion_matrix\n",
    "from sklearn.metrics import classification_report\n",
    "\n",
    "Y = df[['safety_index']].values\n",
    "X = df[['ratio_per_capita','total_time', 'INCIDENT_RESPONSE_SECONDS_QY', 'LADDERS_ASSIGNED_QUANTITY', 'ENGINES_ASSIGNED_QUANTITY']].values\n",
    "X_train, X_test, y_train, y_test = train_test_split(X, Y, test_size = 0.30, random_state=42)\n",
    "scaler = StandardScaler()\n",
    "scaler.fit(X_train)\n",
    "X_train = scaler.transform(X_train)\n",
    "X_test = scaler.transform(X_test)\n",
    "model = LogisticRegression(C=0.001, penalty='l2')\n",
    "model.fit(X_train, y_train)\n",
    "\n",
    "\n",
    "# use the model to make predictions with the test data\n",
    "y_pred = model.predict(X_test)\n",
    "accuracy = metrics.accuracy_score(y_test, y_pred)\n",
    "print('Accuracy: {:.2f}'.format(accuracy))\n",
    "print(confusion_matrix(y_test, y_pred))\n",
    "print(classification_report(y_test, y_pred))"
   ]
  },
  {
   "cell_type": "code",
   "execution_count": 142,
   "metadata": {},
   "outputs": [
    {
     "name": "stderr",
     "output_type": "stream",
     "text": [
      "/Users/elham/anaconda3/lib/python3.7/site-packages/sklearn/utils/validation.py:578: DataConversionWarning: A column-vector y was passed when a 1d array was expected. Please change the shape of y to (n_samples, ), for example using ravel().\n",
      "  y = column_or_1d(y, warn=True)\n"
     ]
    },
    {
     "name": "stdout",
     "output_type": "stream",
     "text": [
      "top features: 2\n",
      "selected features: [False  True  True False False]\n",
      "Feature Ranking: [4 1 1 2 3]\n"
     ]
    }
   ],
   "source": [
    "#important features after modeling by LogisticRegression\n",
    "logreg = LogisticRegression(C=0.001, penalty='l2')\n",
    "from sklearn.feature_selection import RFE\n",
    "rfe = RFE(logreg)\n",
    "fit = rfe.fit(X_train, y_train)\n",
    "print(\"top features: %d\" %(fit.n_features_))\n",
    "print(\"selected features: %s\" %(fit.support_))\n",
    "print(\"Feature Ranking: %s\" % (fit.ranking_))"
   ]
  },
  {
   "cell_type": "code",
   "execution_count": null,
   "metadata": {},
   "outputs": [],
   "source": []
  }
 ],
 "metadata": {
  "kernelspec": {
   "display_name": "Python 3",
   "language": "python",
   "name": "python3"
  },
  "language_info": {
   "codemirror_mode": {
    "name": "ipython",
    "version": 3
   },
   "file_extension": ".py",
   "mimetype": "text/x-python",
   "name": "python",
   "nbconvert_exporter": "python",
   "pygments_lexer": "ipython3",
   "version": "3.7.2"
  }
 },
 "nbformat": 4,
 "nbformat_minor": 2
}
